{
 "cells": [
  {
   "cell_type": "code",
   "execution_count": 5,
   "id": "5e1eb1cb-453b-42fe-9be8-809986eef513",
   "metadata": {},
   "outputs": [],
   "source": [
    "import numpy as np\n",
    "import pandas as pd\n",
    "import matplotlib.pyplot as plt\n",
    "import illustris_python as il\n",
    "import os\n",
    "import h5py"
   ]
  },
  {
   "cell_type": "code",
   "execution_count": 6,
   "id": "97413010-4283-4c25-975b-17276bae06da",
   "metadata": {},
   "outputs": [],
   "source": [
    "data = {}\n",
    "merger_history_path = '/home/kellerbw/illustris/TNG100-1/MergerHistory_099.hdf5'\n",
    "steller_assembly_path = '/home/kellerbw/illustris/TNG100-1/stellar_assembly.hdf5'\n",
    "with h5py.File(merger_history_path, 'r') as f:\n",
    "    # List all groups\n",
    "    data['NumMajorMergersTotal'] = f['NumMajorMergersTotal'][:]\n",
    "    data['NumMajorMergersLastGyr'] = f['NumMajorMergersLastGyr'][:]                             \n",
    "    # Get the data\n",
    "    # merger_history = list(f[a_group_key])\n",
    "\n",
    "with h5py.File(steller_assembly_path, 'r') as f:\n",
    "    # data[]\n",
    "    data['StellarMassExSitu'] = f['Snapshot_99']['StellarMassExSitu'][:]"
   ]
  },
  {
   "cell_type": "code",
   "execution_count": 7,
   "id": "c42f8bf1-6954-421d-b447-c6c742c5c6f7",
   "metadata": {},
   "outputs": [
    {
     "data": {
      "text/html": [
       "<div>\n",
       "<style scoped>\n",
       "    .dataframe tbody tr th:only-of-type {\n",
       "        vertical-align: middle;\n",
       "    }\n",
       "\n",
       "    .dataframe tbody tr th {\n",
       "        vertical-align: top;\n",
       "    }\n",
       "\n",
       "    .dataframe thead th {\n",
       "        text-align: right;\n",
       "    }\n",
       "</style>\n",
       "<table border=\"1\" class=\"dataframe\">\n",
       "  <thead>\n",
       "    <tr style=\"text-align: right;\">\n",
       "      <th></th>\n",
       "      <th>NumMajorMergersTotal</th>\n",
       "      <th>NumMajorMergersLastGyr</th>\n",
       "      <th>StellarMassExSitu</th>\n",
       "    </tr>\n",
       "  </thead>\n",
       "  <tbody>\n",
       "    <tr>\n",
       "      <th>0</th>\n",
       "      <td>7</td>\n",
       "      <td>0</td>\n",
       "      <td>211.273254</td>\n",
       "    </tr>\n",
       "    <tr>\n",
       "      <th>1</th>\n",
       "      <td>8</td>\n",
       "      <td>0</td>\n",
       "      <td>29.655415</td>\n",
       "    </tr>\n",
       "    <tr>\n",
       "      <th>2</th>\n",
       "      <td>3</td>\n",
       "      <td>1</td>\n",
       "      <td>30.850569</td>\n",
       "    </tr>\n",
       "    <tr>\n",
       "      <th>3</th>\n",
       "      <td>7</td>\n",
       "      <td>0</td>\n",
       "      <td>5.589033</td>\n",
       "    </tr>\n",
       "    <tr>\n",
       "      <th>4</th>\n",
       "      <td>5</td>\n",
       "      <td>0</td>\n",
       "      <td>5.612937</td>\n",
       "    </tr>\n",
       "    <tr>\n",
       "      <th>...</th>\n",
       "      <td>...</td>\n",
       "      <td>...</td>\n",
       "      <td>...</td>\n",
       "    </tr>\n",
       "    <tr>\n",
       "      <th>4371206</th>\n",
       "      <td>0</td>\n",
       "      <td>0</td>\n",
       "      <td>0.000000</td>\n",
       "    </tr>\n",
       "    <tr>\n",
       "      <th>4371207</th>\n",
       "      <td>0</td>\n",
       "      <td>0</td>\n",
       "      <td>0.000000</td>\n",
       "    </tr>\n",
       "    <tr>\n",
       "      <th>4371208</th>\n",
       "      <td>0</td>\n",
       "      <td>0</td>\n",
       "      <td>0.000000</td>\n",
       "    </tr>\n",
       "    <tr>\n",
       "      <th>4371209</th>\n",
       "      <td>0</td>\n",
       "      <td>0</td>\n",
       "      <td>0.000000</td>\n",
       "    </tr>\n",
       "    <tr>\n",
       "      <th>4371210</th>\n",
       "      <td>0</td>\n",
       "      <td>0</td>\n",
       "      <td>0.000000</td>\n",
       "    </tr>\n",
       "  </tbody>\n",
       "</table>\n",
       "<p>4371211 rows × 3 columns</p>\n",
       "</div>"
      ],
      "text/plain": [
       "         NumMajorMergersTotal  NumMajorMergersLastGyr  StellarMassExSitu\n",
       "0                           7                       0         211.273254\n",
       "1                           8                       0          29.655415\n",
       "2                           3                       1          30.850569\n",
       "3                           7                       0           5.589033\n",
       "4                           5                       0           5.612937\n",
       "...                       ...                     ...                ...\n",
       "4371206                     0                       0           0.000000\n",
       "4371207                     0                       0           0.000000\n",
       "4371208                     0                       0           0.000000\n",
       "4371209                     0                       0           0.000000\n",
       "4371210                     0                       0           0.000000\n",
       "\n",
       "[4371211 rows x 3 columns]"
      ]
     },
     "execution_count": 7,
     "metadata": {},
     "output_type": "execute_result"
    }
   ],
   "source": [
    "df = pd.DataFrame(data)\n",
    "df"
   ]
  },
  {
   "cell_type": "code",
   "execution_count": 4,
   "id": "7df56516-5a57-4246-8c79-b9b4df4856dd",
   "metadata": {},
   "outputs": [],
   "source": [
    "df.to_csv('stellar_merge_history.csv')"
   ]
  },
  {
   "cell_type": "code",
   "execution_count": null,
   "id": "e08d872e-d626-4782-a431-7740453f3141",
   "metadata": {},
   "outputs": [],
   "source": [
    "import numpy as np\n",
    "import matplotlib.pyplot as plt\n",
    "import seaborn as sns\n"
   ]
  },
  {
   "cell_type": "code",
   "execution_count": null,
   "id": "8ddbacb7-c3be-4456-a584-0c11380a4a60",
   "metadata": {},
   "outputs": [],
   "source": [
    "# Assuming `ebm.term_scores_[i][1:-2]` is a 1D array for each feature\n",
    "heatmap_data = [ebm.term_scores_[i][1:-2] for i in range(len(ebm.feature_names_in_))]\n",
    "heatmap_data = np.array(heatmap_data)"
   ]
  },
  {
   "cell_type": "code",
   "execution_count": null,
   "id": "473bac33-8815-4c45-ace1-b7b94166892e",
   "metadata": {},
   "outputs": [],
   "source": [
    "# Create the subplots\n",
    "fig, axes = plt.subplots(nrows=2, ncols=5, figsize=(20, 7))\n",
    "axes = axes.flatten()\n",
    "\n",
    "# Iterate over the features and create heatmaps\n",
    "for i in range(len(ebm.feature_names_in_)):\n",
    "    # Plot the heatmap using imshow\n",
    "    im = axes[i].imshow([heatmap_data[i]], cmap='viridis', aspect='auto', extent=[ebm.bins_[i][0][0], ebm.bins_[i][0][-3], 1, 0])\n",
    "    \n",
    "    # Add a colorbar for each heatmap\n",
    "    cbar = fig.colorbar(im, ax=axes[i])\n",
    "    cbar.set_label('Baryon Fraction')\n",
    "\n",
    "    # Set the title and ylabel for each subplot\n",
    "    axes[i].set_title(ebm.feature_names_in_[i])\n",
    "    axes[i].set_ylabel('Baryon Fraction')\n",
    "\n",
    "# Remove any remaining empty subplots\n",
    "for j in range(len(ebm.feature_names_in_), len(axes)):\n",
    "    fig.delaxes(axes[j])\n",
    "\n",
    "# Adjust layout to prevent overlap\n",
    "fig.tight_layout()\n",
    "\n",
    "# Show the plot\n",
    "plt.show()\n"
   ]
  },
  {
   "cell_type": "code",
   "execution_count": null,
   "id": "de9080ef-c773-43f6-a9a5-f783abb61e26",
   "metadata": {},
   "outputs": [],
   "source": [
    "it_feat = [f for f in ebm.term_features_ if len(f) > 1]\n",
    "\n",
    "fig, ax = plt.subplots(nrows=2, ncols=5, figsize=(22, 8))\n",
    "j = 0\n",
    "it_scores = ebm.term_scores_[10:]\n",
    "\n",
    "score_tensor = np.vstack([score[np.newaxis, ...] for score in it_scores])\n",
    "\n",
    "for row in ax:\n",
    "    for col in row:\n",
    "        idx, idy = it_feat[j]\n",
    "        im = col.imshow(it_scores[j], cmap='bwr', aspect='auto', vmax=score_tensor.max(), vmin=score_tensor.min(),\n",
    "                        extent=[ebm.bins_[idx][0][0], ebm.bins_[idx][0][-1], ebm.bins_[idy][0][0], ebm.bins_[idy][0][-1]])\n",
    "        colnameX, colnameY = ebm.feature_names_in_[it_feat[j][0]], ebm.feature_names_in_[it_feat[j][1]] \n",
    "        col.set_xlabel(colnameX)\n",
    "        col.set_ylabel(colnameY)\n",
    "        j += 1\n",
    "\n",
    "fig.tight_layout(pad=2.5)\n",
    "# Adjust layout to make space for the common colorbar\n",
    "fig.subplots_adjust(right=0.8)\n",
    "cbar_ax = fig.add_axes([0.85, 0.15, 0.05, 0.7])  # Position of the colorbar: [left, bottom, width, height]\n",
    "cbar = fig.colorbar(im, cax=cbar_ax, orientation='vertical')\n",
    "cbar.ax.set_title('Baryon Fraction')\n",
    "\n",
    "\n",
    "plt.show()"
   ]
  },
  {
   "cell_type": "code",
   "execution_count": null,
   "id": "3cc6760d-4cd2-4e8a-a6ef-a596b2b1f703",
   "metadata": {},
   "outputs": [],
   "source": [
    "it_feat = [f for f in ebm.term_features_ if len(f) > 1]\n",
    "\n",
    "fig, ax = plt.subplots(nrows=2, ncols=5, figsize=(22, 8))\n",
    "j = 0\n",
    "it_scores = ebm.term_scores_[10:]\n",
    "\n",
    "score_tensor = np.vstack([score[np.newaxis, ...] for score in it_scores])\n",
    "\n",
    "for row in ax:\n",
    "    for col in row:\n",
    "        idx, idy = it_feat[j]\n",
    "        im = col.imshow(it_scores[j], cmap='bwr', aspect='auto', vmax=score_tensor.max(), vmin=score_tensor.min(),\n",
    "                        extent=[ebm.bins_[idx][0][0], ebm.bins_[idx][0][-1], ebm.bins_[idy][0][0], ebm.bins_[idy][0][-1]])\n",
    "        colnameX, colnameY = ebm.feature_names_in_[it_feat[j][0]], ebm.feature_names_in_[it_feat[j][1]] \n",
    "        col.set_xlabel(colnameX)\n",
    "        col.set_ylabel(colnameY)\n",
    "        j += 1\n",
    "\n",
    "fig.tight_layout(pad=2.5)\n",
    "# Adjust layout to make space for the common colorbar\n",
    "fig.subplots_adjust(right=0.8)\n",
    "cbar_ax = fig.add_axes([0.85, 0.15, 0.05, 0.7])  # Position of the colorbar: [left, bottom, width, height]\n",
    "cbar = fig.colorbar(im, cax=cbar_ax, orientation='vertical')\n",
    "cbar.ax.set_title('Baryon Fraction')\n",
    "\n",
    "\n",
    "plt.show()"
   ]
  },
  {
   "cell_type": "code",
   "execution_count": null,
   "id": "60c16e26-bbc1-4f16-a711-20e6b5c13d02",
   "metadata": {},
   "outputs": [],
   "source": [
    "def add_edges(edges, num_to_add):\n",
    "    \"\"\"Add additional bin edges through linear interpolation.\"\"\"\n",
    "    last_diff = edges[-1] - edges[-2]\n",
    "    return np.concatenate([edges, [edges[-1] + last_diff * (i+1) for i in range(num_to_add)]])"
   ]
  },
  {
   "cell_type": "code",
   "execution_count": null,
   "id": "c03d2a6c-a7b4-4577-b69d-bed6d1e00854",
   "metadata": {},
   "outputs": [],
   "source": [
    "X_train['SubhaloStarMassInHalfRad'].apply(np.log10).describe()"
   ]
  },
  {
   "cell_type": "code",
   "execution_count": null,
   "id": "ca166f52-d358-49f3-80ff-113f4a478a5b",
   "metadata": {},
   "outputs": [],
   "source": []
  },
  {
   "cell_type": "code",
   "execution_count": null,
   "id": "f429e8c6-57af-49e6-a093-496fce842ccf",
   "metadata": {},
   "outputs": [],
   "source": [
    "X_train[X_train[\"SubhaloStarMassInHalfRad\"]>0] "
   ]
  },
  {
   "cell_type": "code",
   "execution_count": null,
   "id": "b2fed6da-1200-434c-bb09-da6c34a424ae",
   "metadata": {},
   "outputs": [],
   "source": [
    "X_train.loc[X_train['SubhaloStarMassInHalfRad']==0, 'SubhaloStarMassInHalfRad']=1"
   ]
  },
  {
   "cell_type": "code",
   "execution_count": null,
   "id": "7a19b877-23aa-4143-b645-a88b6c54796a",
   "metadata": {},
   "outputs": [],
   "source": [
    "X_train.describe()"
   ]
  },
  {
   "cell_type": "code",
   "execution_count": null,
   "id": "13390cdc-bcb9-4e5d-9394-a3fa258505c5",
   "metadata": {},
   "outputs": [],
   "source": [
    "X_train[X_train['SubhaloGasMetallicityMaxRad']!=0].describe()"
   ]
  },
  {
   "cell_type": "code",
   "execution_count": null,
   "id": "9a92139b-8ebb-40de-8d68-c5db3adf22dc",
   "metadata": {},
   "outputs": [],
   "source": []
  },
  {
   "cell_type": "code",
   "execution_count": null,
   "id": "ed8a9169-d61c-4eee-8cdf-6bb90cd14dc9",
   "metadata": {},
   "outputs": [],
   "source": [
    "it_feat = [f for f in ebm.term_features_ if len(f) > 1]\n",
    "fig, ax = plt.subplots(nrows=2, ncols=5, figsize=(22, 8))\n",
    "j = 0\n",
    "it_scores = ebm.term_scores_[10:]\n",
    "\n",
    "# Define a common color range for all plots\n",
    "vmin = min([score.min() for score in it_scores])\n",
    "vmax = max([score.max() for score in it_scores])\n",
    "\n",
    "for row in ax:\n",
    "    for col in row:\n",
    "        idx, idy = it_feat[j]\n",
    "        \n",
    "        x_edges = ebm.bins_[idx][1]\n",
    "        y_edges = ebm.bins_[idy][1]\n",
    "\n",
    "        X, Y = np.meshgrid(x_edges, y_edges)\n",
    "        \n",
    "        c = col.imshow(X, Y, it_scores[j][1:-2, 1:-2], shading='auto', cmap='bwr', vmin=vmin, vmax=vmax)\n",
    "        colnameX, colnameY = ebm.feature_names_in_[it_feat[j][0]], ebm.feature_names_in_[it_feat[j][1]]\n",
    "        col.set_xlabel(colnameX)\n",
    "        col.set_ylabel(colnameY)\n",
    "        \n",
    "        j += 1\n",
    "plt.tight_layout(pad=2.5)\n",
    "# Add a common colorbar\n",
    "fig.subplots_adjust(right=0.83)\n",
    "cbar_ax = fig.add_axes([0.85, 0.15, 0.01, 0.7])\n",
    "fig.colorbar(c, cax=cbar_ax, label='Baryon Fraction')\n",
    "\n",
    "fig.savefig('interaction_term_score.png')\n",
    "plt.show()"
   ]
  },
  {
   "cell_type": "code",
   "execution_count": null,
   "id": "28e0391f-bf2c-40df-a453-cd8f7e79aa4d",
   "metadata": {},
   "outputs": [],
   "source": [
    "The configuration scores[1:-2, 1:-2] in the pcolormesh function call is slicing the scores array to exclude the first row and the last two rows, as well as the first column and the last two columns. This slicing is done possibly to remove border effects or outliers in the data. Sometimes, the boundaries have extreme values or noise which can distort the visualization. By excluding these values, you might get a plot that better represents the central portion of the data."
   ]
  }
 ],
 "metadata": {
  "kernelspec": {
   "display_name": "Python 3 (ipykernel)",
   "language": "python",
   "name": "python3"
  },
  "language_info": {
   "codemirror_mode": {
    "name": "ipython",
    "version": 3
   },
   "file_extension": ".py",
   "mimetype": "text/x-python",
   "name": "python",
   "nbconvert_exporter": "python",
   "pygments_lexer": "ipython3",
   "version": "3.12.6"
  }
 },
 "nbformat": 4,
 "nbformat_minor": 5
}
