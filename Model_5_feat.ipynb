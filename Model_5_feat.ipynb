import numpy as np
import pandas as pd
import illustris_python as il
import matplotlib.pyplot as plt
from sklearn.ensemble import RandomForestRegressor
from sklearn.model_selection import train_test_split
from sklearn.inspection import permutation_importance
from sklearn.metrics import r2_score
import seaborn as sns
from interpret.glassbox import ExplainableBoostingRegressor
from sklearn.model_selection import train_test_split, GridSearchCV
import os
import h5py
from tqdm import tqdm
from sklearn.metrics import mean_absolute_error, mean_squared_error
